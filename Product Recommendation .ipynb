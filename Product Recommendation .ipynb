{
 "cells": [
  {
   "cell_type": "code",
   "execution_count": 1,
   "id": "c31270c5-4afe-4260-a857-9e62aed7a5f2",
   "metadata": {},
   "outputs": [
    {
     "name": "stdout",
     "output_type": "stream",
     "text": [
      "Saved hybrid embeddings with shape: (3129, 2432)\n",
      "Filtered df saved with 3129 products.\n"
     ]
    }
   ],
   "source": [
    "import pandas as pd\n",
    "import numpy as np\n",
    "\n",
    "# 1. Load your product metadata CSV\n",
    "df = pd.read_csv(r\"C:\\Users\\Arjun\\Desktop\\Arjun\\Projects\\Swipe now\\ML\\zara\\store_zara.csv\")\n",
    "\n",
    "# 2. Load your image embeddings (assuming saved as .npy)\n",
    "image_embeddings = np.load(r\"C:\\Users\\Arjun\\Desktop\\Arjun\\Projects\\Swipe now\\ML\\embeddings_pytorch.npy\")\n",
    "\n",
    "# 3. Load your saved text embeddings (final_text_embeddings.npy)\n",
    "text_embeddings = np.load(r\"C:\\Users\\Arjun\\Desktop\\Arjun\\Projects\\Swipe now\\ML\\final_text_embeddings.npy\")  \n",
    "\n",
    "# 4. Filter df to only products having both embeddings (image + text)\n",
    "# Assuming index alignment: find intersection of product IDs or indices\n",
    "# Here, we assume text embeddings correspond to first N products in df\n",
    "\n",
    "df_filtered = df.iloc[:len(text_embeddings)].copy()\n",
    "\n",
    "# 5. Normalize embeddings (optional but recommended for cosine similarity)\n",
    "def normalize_embeddings(embeddings):\n",
    "    norms = np.linalg.norm(embeddings, axis=1, keepdims=True)\n",
    "    return embeddings / norms\n",
    "\n",
    "image_embeddings_norm = normalize_embeddings(image_embeddings[:len(df_filtered)])\n",
    "text_embeddings_norm = normalize_embeddings(text_embeddings)\n",
    "\n",
    "# 6. Create hybrid embeddings by concatenating image + text embeddings\n",
    "hybrid_embeddings = np.concatenate([image_embeddings_norm, text_embeddings_norm], axis=1)\n",
    "\n",
    "# 7. Save everything for Flask server usage\n",
    "np.save(\"hybrid_embeddings.npy\", hybrid_embeddings)\n",
    "df_filtered.to_csv(\"filtered_store_zara.csv\", index=False)\n",
    "\n",
    "print(f\"Saved hybrid embeddings with shape: {hybrid_embeddings.shape}\")\n",
    "print(f\"Filtered df saved with {len(df_filtered)} products.\")\n"
   ]
  },
  {
   "cell_type": "code",
   "execution_count": 3,
   "id": "5bb2c10f-78b8-4345-8c7a-1fc4a9b27c83",
   "metadata": {},
   "outputs": [],
   "source": [
    "df  = pd.read_csv(\"C:\\\\Users\\\\Arjun\\\\Desktop\\\\Arjun\\\\Projects\\\\Swipe now\\\\ML\\\\product_metadata.csv\")"
   ]
  },
  {
   "cell_type": "code",
   "execution_count": 4,
   "id": "1c00e716-2fd4-495e-ac54-0deee8ce38cc",
   "metadata": {},
   "outputs": [
    {
     "data": {
      "text/plain": [
       "Index(['brand', 'url', 'sku', 'name', 'description', 'price', 'currency',\n",
       "       'images', 'scraped_at', 'terms', 'section', 'error', 'image_downloads'],\n",
       "      dtype='object')"
      ]
     },
     "execution_count": 4,
     "metadata": {},
     "output_type": "execute_result"
    }
   ],
   "source": [
    "df.columns"
   ]
  },
  {
   "cell_type": "code",
   "execution_count": null,
   "id": "38581520-adfa-4889-9b66-55b3f83d57e9",
   "metadata": {},
   "outputs": [],
   "source": []
  }
 ],
 "metadata": {
  "kernelspec": {
   "display_name": "Python 3 (ipykernel)",
   "language": "python",
   "name": "python3"
  },
  "language_info": {
   "codemirror_mode": {
    "name": "ipython",
    "version": 3
   },
   "file_extension": ".py",
   "mimetype": "text/x-python",
   "name": "python",
   "nbconvert_exporter": "python",
   "pygments_lexer": "ipython3",
   "version": "3.12.2"
  }
 },
 "nbformat": 4,
 "nbformat_minor": 5
}
